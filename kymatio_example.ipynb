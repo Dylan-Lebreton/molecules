{
 "cells": [
  {
   "cell_type": "markdown",
   "source": [
    "https://www.kymat.io/gallery_3d/scattering3d_qm7_torch.html"
   ],
   "metadata": {
    "collapsed": false
   }
  },
  {
   "cell_type": "code",
   "execution_count": 1,
   "metadata": {},
   "outputs": [],
   "source": [
    "import numpy as np\n",
    "import torch\n",
    "import time\n",
    "import os"
   ]
  },
  {
   "cell_type": "code",
   "execution_count": 2,
   "metadata": {},
   "outputs": [],
   "source": [
    "from sklearn import (linear_model, model_selection, preprocessing,\n",
    "                     pipeline)\n",
    "from scipy.spatial.distance import pdist"
   ]
  },
  {
   "cell_type": "code",
   "execution_count": 3,
   "metadata": {},
   "outputs": [],
   "source": [
    "from kymatio.torch import HarmonicScattering3D\n",
    "from kymatio.scattering3d.backend.torch_backend \\\n",
    "    import TorchBackend3D\n",
    "from kymatio.scattering3d.utils \\\n",
    "    import generate_weighted_sum_of_gaussians\n",
    "from kymatio.datasets import fetch_qm7\n",
    "from kymatio.caching import get_cache_dir"
   ]
  },
  {
   "cell_type": "code",
   "execution_count": 4,
   "metadata": {},
   "outputs": [],
   "source": [
    "qm7 = fetch_qm7(align=True)\n",
    "pos = qm7['positions']\n",
    "full_charges = qm7['charges']\n",
    "\n",
    "n_molecules = pos.shape[0]"
   ]
  },
  {
   "cell_type": "code",
   "execution_count": 8,
   "metadata": {},
   "outputs": [],
   "source": [
    "mask = full_charges <= 2\n",
    "valence_charges = full_charges * mask\n",
    "\n",
    "mask = np.logical_and(full_charges > 2, full_charges <= 10)\n",
    "valence_charges += (full_charges - 2) * mask\n",
    "\n",
    "mask = np.logical_and(full_charges > 10, full_charges <= 18)\n",
    "valence_charges += (full_charges - 10) * mask"
   ]
  },
  {
   "cell_type": "code",
   "execution_count": 9,
   "metadata": {},
   "outputs": [],
   "source": [
    "overlapping_precision = 1e-1\n",
    "sigma = 2.0\n",
    "min_dist = np.inf\n",
    "\n",
    "for i in range(n_molecules):\n",
    "    n_atoms = np.sum(full_charges[i] != 0)\n",
    "    pos_i = pos[i, :n_atoms, :]\n",
    "    min_dist = min(min_dist, pdist(pos_i).min())\n",
    "\n",
    "delta = sigma * np.sqrt(-8 * np.log(overlapping_precision))\n",
    "pos = pos * delta / min_dist"
   ]
  },
  {
   "cell_type": "code",
   "execution_count": 10,
   "metadata": {},
   "outputs": [],
   "source": [
    "M, N, O = 192, 128, 96\n",
    "\n",
    "grid = np.mgrid[-M//2:-M//2+M, -N//2:-N//2+N, -O//2:-O//2+O]\n",
    "grid = np.fft.ifftshift(grid)"
   ]
  },
  {
   "cell_type": "code",
   "execution_count": 11,
   "metadata": {},
   "outputs": [],
   "source": [
    "J = 2\n",
    "L = 3\n",
    "integral_powers = [0.5, 1.0, 2.0, 3.0]\n",
    "\n",
    "scattering = HarmonicScattering3D(J=J, shape=(M, N, O),\n",
    "                                  L=L, sigma_0=sigma,\n",
    "                                  integral_powers=integral_powers)"
   ]
  },
  {
   "cell_type": "code",
   "execution_count": 12,
   "metadata": {},
   "outputs": [
    {
     "data": {
      "text/plain": [
       "HarmonicScattering3D()"
      ]
     },
     "execution_count": 12,
     "metadata": {},
     "output_type": "execute_result"
    }
   ],
   "source": [
    "use_cuda = torch.cuda.is_available()\n",
    "device = torch.device(\"cuda\" if use_cuda else \"cpu\")\n",
    "scattering.to(device)"
   ]
  },
  {
   "cell_type": "code",
   "execution_count": 14,
   "metadata": {},
   "outputs": [],
   "source": [
    "n_molecules = 12"
   ]
  },
  {
   "cell_type": "code",
   "execution_count": 15,
   "metadata": {},
   "outputs": [],
   "source": [
    "batch_size = 4\n",
    "n_batches = int(np.ceil(n_molecules / batch_size))"
   ]
  },
  {
   "cell_type": "code",
   "execution_count": 16,
   "metadata": {},
   "outputs": [
    {
     "name": "stdout",
     "output_type": "stream",
     "text": [
      "Computing solid harmonic scattering coefficients of 12 molecules from the QM7 database on CPU\n",
      "sigma: 2.0, L: 3, J: 2, integral powers: [0.5, 1.0, 2.0, 3.0]\n",
      "Iteration 1 ETA: -\n",
      "Iteration 2 ETA: [00:03:08]\n"
     ]
    },
    {
     "ename": "KeyboardInterrupt",
     "evalue": "",
     "output_type": "error",
     "traceback": [
      "\u001B[1;31m---------------------------------------------------------------------------\u001B[0m",
      "\u001B[1;31mKeyboardInterrupt\u001B[0m                         Traceback (most recent call last)",
      "Cell \u001B[1;32mIn[16], line 53\u001B[0m\n\u001B[0;32m     50\u001B[0m \u001B[39m# Compute scattering coefficients for the valence charges.\u001B[39;00m\n\u001B[0;32m     51\u001B[0m val_order_0 \u001B[39m=\u001B[39m TorchBackend3D\u001B[39m.\u001B[39mcompute_integrals(val_density_batch,\n\u001B[0;32m     52\u001B[0m                                 integral_powers)\n\u001B[1;32m---> 53\u001B[0m val_scattering \u001B[39m=\u001B[39m scattering(val_density_batch)\n\u001B[0;32m     55\u001B[0m \u001B[39m# Take the difference between nuclear and valence charges, then\u001B[39;00m\n\u001B[0;32m     56\u001B[0m \u001B[39m# compute the corresponding scattering coefficients.\u001B[39;00m\n\u001B[0;32m     57\u001B[0m core_density_batch \u001B[39m=\u001B[39m full_density_batch \u001B[39m-\u001B[39m val_density_batch\n",
      "File \u001B[1;32mc:\\Users\\apersonn\\Miniconda3\\envs\\bot\\lib\\site-packages\\torch\\nn\\modules\\module.py:1501\u001B[0m, in \u001B[0;36mModule._call_impl\u001B[1;34m(self, *args, **kwargs)\u001B[0m\n\u001B[0;32m   1496\u001B[0m \u001B[39m# If we don't have any hooks, we want to skip the rest of the logic in\u001B[39;00m\n\u001B[0;32m   1497\u001B[0m \u001B[39m# this function, and just call forward.\u001B[39;00m\n\u001B[0;32m   1498\u001B[0m \u001B[39mif\u001B[39;00m \u001B[39mnot\u001B[39;00m (\u001B[39mself\u001B[39m\u001B[39m.\u001B[39m_backward_hooks \u001B[39mor\u001B[39;00m \u001B[39mself\u001B[39m\u001B[39m.\u001B[39m_backward_pre_hooks \u001B[39mor\u001B[39;00m \u001B[39mself\u001B[39m\u001B[39m.\u001B[39m_forward_hooks \u001B[39mor\u001B[39;00m \u001B[39mself\u001B[39m\u001B[39m.\u001B[39m_forward_pre_hooks\n\u001B[0;32m   1499\u001B[0m         \u001B[39mor\u001B[39;00m _global_backward_pre_hooks \u001B[39mor\u001B[39;00m _global_backward_hooks\n\u001B[0;32m   1500\u001B[0m         \u001B[39mor\u001B[39;00m _global_forward_hooks \u001B[39mor\u001B[39;00m _global_forward_pre_hooks):\n\u001B[1;32m-> 1501\u001B[0m     \u001B[39mreturn\u001B[39;00m forward_call(\u001B[39m*\u001B[39margs, \u001B[39m*\u001B[39m\u001B[39m*\u001B[39mkwargs)\n\u001B[0;32m   1502\u001B[0m \u001B[39m# Do not call functions when jit is used\u001B[39;00m\n\u001B[0;32m   1503\u001B[0m full_backward_hooks, non_full_backward_hooks \u001B[39m=\u001B[39m [], []\n",
      "File \u001B[1;32mc:\\Users\\apersonn\\Miniconda3\\envs\\bot\\lib\\site-packages\\kymatio\\frontend\\torch_frontend.py:22\u001B[0m, in \u001B[0;36mScatteringTorch.forward\u001B[1;34m(self, x)\u001B[0m\n\u001B[0;32m     18\u001B[0m \u001B[39m\u001B[39m\u001B[39m\"\"\"This method is an alias for `scattering`.\"\"\"\u001B[39;00m\n\u001B[0;32m     20\u001B[0m \u001B[39mself\u001B[39m\u001B[39m.\u001B[39mbackend\u001B[39m.\u001B[39minput_checks(x)\n\u001B[1;32m---> 22\u001B[0m \u001B[39mreturn\u001B[39;00m \u001B[39mself\u001B[39;49m\u001B[39m.\u001B[39;49mscattering(x)\n",
      "File \u001B[1;32mc:\\Users\\apersonn\\Miniconda3\\envs\\bot\\lib\\site-packages\\kymatio\\scattering3d\\frontend\\torch_frontend.py:73\u001B[0m, in \u001B[0;36mHarmonicScatteringTorch3D.scattering\u001B[1;34m(self, input_array)\u001B[0m\n\u001B[0;32m     70\u001B[0m \u001B[39mif\u001B[39;00m \u001B[39mself\u001B[39m\u001B[39m.\u001B[39mmethod \u001B[39m==\u001B[39m \u001B[39m'\u001B[39m\u001B[39mintegral\u001B[39m\u001B[39m'\u001B[39m: \\\n\u001B[0;32m     71\u001B[0m         \u001B[39mself\u001B[39m\u001B[39m.\u001B[39maveraging \u001B[39m=\u001B[39m \u001B[39mlambda\u001B[39;00m x: \u001B[39mself\u001B[39m\u001B[39m.\u001B[39mbackend\u001B[39m.\u001B[39mcompute_integrals(x, \u001B[39mself\u001B[39m\u001B[39m.\u001B[39mintegral_powers)\n\u001B[1;32m---> 73\u001B[0m S \u001B[39m=\u001B[39m scattering3d(input_array, filters\u001B[39m=\u001B[39;49m\u001B[39mself\u001B[39;49m\u001B[39m.\u001B[39;49mfilters, rotation_covariant\u001B[39m=\u001B[39;49m\u001B[39mself\u001B[39;49m\u001B[39m.\u001B[39;49mrotation_covariant, L\u001B[39m=\u001B[39;49m\u001B[39mself\u001B[39;49m\u001B[39m.\u001B[39;49mL,\n\u001B[0;32m     74\u001B[0m                     J\u001B[39m=\u001B[39;49m\u001B[39mself\u001B[39;49m\u001B[39m.\u001B[39;49mJ, max_order\u001B[39m=\u001B[39;49m\u001B[39mself\u001B[39;49m\u001B[39m.\u001B[39;49mmax_order, backend\u001B[39m=\u001B[39;49m\u001B[39mself\u001B[39;49m\u001B[39m.\u001B[39;49mbackend, averaging\u001B[39m=\u001B[39;49m\u001B[39mself\u001B[39;49m\u001B[39m.\u001B[39;49maveraging)\n\u001B[0;32m     75\u001B[0m scattering_shape \u001B[39m=\u001B[39m S\u001B[39m.\u001B[39mshape[\u001B[39m1\u001B[39m:]\n\u001B[0;32m     77\u001B[0m S \u001B[39m=\u001B[39m S\u001B[39m.\u001B[39mreshape(batch_shape \u001B[39m+\u001B[39m scattering_shape)\n",
      "File \u001B[1;32mc:\\Users\\apersonn\\Miniconda3\\envs\\bot\\lib\\site-packages\\kymatio\\scattering3d\\core\\scattering3d.py:33\u001B[0m, in \u001B[0;36mscattering3d\u001B[1;34m(x, filters, rotation_covariant, L, J, max_order, backend, averaging)\u001B[0m\n\u001B[0;32m     31\u001B[0m \u001B[39mif\u001B[39;00m rotation_covariant:\n\u001B[0;32m     32\u001B[0m     \u001B[39mfor\u001B[39;00m m \u001B[39min\u001B[39;00m \u001B[39mrange\u001B[39m(\u001B[39mlen\u001B[39m(filters[l][j_1])):\n\u001B[1;32m---> 33\u001B[0m         U_1_c \u001B[39m=\u001B[39m cdgmm3d(U_0_c, filters[l][j_1][m])\n\u001B[0;32m     34\u001B[0m         U_1_c \u001B[39m=\u001B[39m ifft(U_1_c)\n\u001B[0;32m     35\u001B[0m         U_1_m \u001B[39m=\u001B[39m modulus_rotation(U_1_c, U_1_m)\n",
      "File \u001B[1;32mc:\\Users\\apersonn\\Miniconda3\\envs\\bot\\lib\\site-packages\\kymatio\\scattering3d\\backend\\torch_backend.py:99\u001B[0m, in \u001B[0;36mTorchBackend3D.cdgmm3d\u001B[1;34m(cls, A, B)\u001B[0m\n\u001B[0;32m     97\u001B[0m \u001B[39m@classmethod\u001B[39m\n\u001B[0;32m     98\u001B[0m \u001B[39mdef\u001B[39;00m \u001B[39mcdgmm3d\u001B[39m(\u001B[39mcls\u001B[39m, A, B):\n\u001B[1;32m---> 99\u001B[0m     \u001B[39mreturn\u001B[39;00m \u001B[39mcls\u001B[39;49m\u001B[39m.\u001B[39;49mcdgmm(A, B)\n",
      "File \u001B[1;32mc:\\Users\\apersonn\\Miniconda3\\envs\\bot\\lib\\site-packages\\kymatio\\backend\\torch_backend.py:217\u001B[0m, in \u001B[0;36mTorchBackend.cdgmm\u001B[1;34m(cls, A, B)\u001B[0m\n\u001B[0;32m    214\u001B[0m B_i \u001B[39m=\u001B[39m B[\u001B[39m.\u001B[39m\u001B[39m.\u001B[39m\u001B[39m.\u001B[39m, \u001B[39m1\u001B[39m]\u001B[39m.\u001B[39mview(\u001B[39m-\u001B[39m\u001B[39m1\u001B[39m)\u001B[39m.\u001B[39munsqueeze(\u001B[39m0\u001B[39m)\u001B[39m.\u001B[39mexpand_as(A_i)\n\u001B[0;32m    216\u001B[0m C[\u001B[39m.\u001B[39m\u001B[39m.\u001B[39m\u001B[39m.\u001B[39m, \u001B[39m0\u001B[39m]\u001B[39m.\u001B[39mview(\u001B[39m-\u001B[39m\u001B[39m1\u001B[39m, B\u001B[39m.\u001B[39mnelement() \u001B[39m/\u001B[39m\u001B[39m/\u001B[39m \u001B[39m2\u001B[39m)[:] \u001B[39m=\u001B[39m A_r \u001B[39m*\u001B[39m B_r \u001B[39m-\u001B[39m A_i \u001B[39m*\u001B[39m B_i\n\u001B[1;32m--> 217\u001B[0m C[\u001B[39m.\u001B[39m\u001B[39m.\u001B[39m\u001B[39m.\u001B[39m, \u001B[39m1\u001B[39m]\u001B[39m.\u001B[39mview(\u001B[39m-\u001B[39m\u001B[39m1\u001B[39m, B\u001B[39m.\u001B[39mnelement() \u001B[39m/\u001B[39m\u001B[39m/\u001B[39m \u001B[39m2\u001B[39m)[:] \u001B[39m=\u001B[39m A_r \u001B[39m*\u001B[39m B_i \u001B[39m+\u001B[39m A_i \u001B[39m*\u001B[39;49m B_r\n\u001B[0;32m    219\u001B[0m \u001B[39mreturn\u001B[39;00m C\n",
      "\u001B[1;31mKeyboardInterrupt\u001B[0m: "
     ]
    }
   ],
   "source": [
    "order_0, orders_1_and_2 = [], []\n",
    "print('Computing solid harmonic scattering coefficients of '\n",
    "      '{} molecules from the QM7 database on {}'.format(\n",
    "        n_molecules,   \"GPU\" if use_cuda else \"CPU\"))\n",
    "print('sigma: {}, L: {}, J: {}, integral powers: {}'.format(\n",
    "        sigma, L, J, integral_powers))\n",
    "\n",
    "this_time = None\n",
    "last_time = None\n",
    "for i in range(n_batches):\n",
    "    this_time = time.time()\n",
    "    if last_time is not None:\n",
    "        dt = this_time - last_time\n",
    "        print(\"Iteration {} ETA: [{:02}:{:02}:{:02}]\".format(\n",
    "                    i + 1, int(((n_batches - i - 1) * dt) // 3600),\n",
    "                    int((((n_batches - i - 1) * dt) // 60) % 60),\n",
    "                    int(((n_batches - i - 1) * dt) % 60)))\n",
    "    else:\n",
    "        print(\"Iteration {} ETA: {}\".format(i + 1, '-'))\n",
    "    last_time = this_time\n",
    "    # time.sleep(1)\n",
    "\n",
    "    # Extract the current batch.\n",
    "    start = i * batch_size\n",
    "    end = min(start + batch_size, n_molecules)\n",
    "\n",
    "    pos_batch = pos[start:end]\n",
    "    full_batch = full_charges[start:end]\n",
    "    val_batch = valence_charges[start:end]\n",
    "\n",
    "    # Calculate the density map for the nuclear charges and transfer\n",
    "    # to PyTorch.\n",
    "    full_density_batch = generate_weighted_sum_of_gaussians(grid,\n",
    "            pos_batch, full_batch, sigma)\n",
    "    full_density_batch = torch.from_numpy(full_density_batch)\n",
    "    full_density_batch = full_density_batch.to(device).float()\n",
    "\n",
    "    # Compute zeroth-order, first-order, and second-order scattering\n",
    "    # coefficients of the nuclear charges.\n",
    "    full_order_0 = TorchBackend3D.compute_integrals(full_density_batch,\n",
    "                                     integral_powers)\n",
    "    full_scattering = scattering(full_density_batch)\n",
    "\n",
    "    # Compute the map for valence charges.\n",
    "    val_density_batch = generate_weighted_sum_of_gaussians(grid,\n",
    "            pos_batch, val_batch, sigma)\n",
    "    val_density_batch = torch.from_numpy(val_density_batch)\n",
    "    val_density_batch = val_density_batch.to(device).float()\n",
    "\n",
    "    # Compute scattering coefficients for the valence charges.\n",
    "    val_order_0 = TorchBackend3D.compute_integrals(val_density_batch,\n",
    "                                    integral_powers)\n",
    "    val_scattering = scattering(val_density_batch)\n",
    "\n",
    "    # Take the difference between nuclear and valence charges, then\n",
    "    # compute the corresponding scattering coefficients.\n",
    "    core_density_batch = full_density_batch - val_density_batch\n",
    "\n",
    "    core_order_0 = TorchBackend3D.compute_integrals(core_density_batch,\n",
    "                                     integral_powers)\n",
    "    core_scattering = scattering(core_density_batch)\n",
    "\n",
    "    # Stack the nuclear, valence, and core coefficients into arrays\n",
    "    # and append them to the output.\n",
    "    batch_order_0 = torch.stack(\n",
    "        (full_order_0, val_order_0, core_order_0), dim=-1)\n",
    "    batch_orders_1_and_2 = torch.stack(\n",
    "        (full_scattering, val_scattering, core_scattering), dim=-1)\n",
    "\n",
    "    order_0.append(batch_order_0)\n",
    "    orders_1_and_2.append(batch_orders_1_and_2)"
   ]
  },
  {
   "cell_type": "code",
   "execution_count": null,
   "metadata": {},
   "outputs": [],
   "source": [
    "order_0 = torch.cat(order_0, dim=0)\n",
    "orders_1_and_2 = torch.cat(orders_1_and_2, dim=0)\n",
    "\n",
    "order_0 = order_0.cpu().numpy()\n",
    "orders_1_and_2 = orders_1_and_2.cpu().numpy()"
   ]
  },
  {
   "cell_type": "code",
   "execution_count": null,
   "metadata": {},
   "outputs": [],
   "source": [
    "order_0 = order_0.reshape((n_molecules, -1))\n",
    "orders_1_and_2 = orders_1_and_2.reshape((n_molecules, -1))"
   ]
  },
  {
   "cell_type": "code",
   "execution_count": null,
   "metadata": {},
   "outputs": [],
   "source": [
    "basename = 'qm7_L_{}_J_{}_sigma_{}_MNO_{}_powers_{}.npy'.format(\n",
    "        L, J, sigma, (M, N, O), integral_powers)\n",
    "\n",
    "cache_dir = get_cache_dir(\"qm7/experiments\")\n",
    "\n",
    "filename = os.path.join(cache_dir, 'order_0_' + basename)\n",
    "np.save(filename, order_0)\n",
    "\n",
    "filename = os.path.join(cache_dir, 'orders_1_and_2' + basename)\n",
    "np.save(filename, orders_1_and_2)"
   ]
  },
  {
   "cell_type": "code",
   "execution_count": null,
   "metadata": {},
   "outputs": [],
   "source": [
    "scattering_coef = np.concatenate([order_0, orders_1_and_2], axis=1)"
   ]
  },
  {
   "cell_type": "code",
   "execution_count": null,
   "metadata": {},
   "outputs": [],
   "source": [
    "qm7 = fetch_qm7()\n",
    "target = qm7['energies']"
   ]
  },
  {
   "cell_type": "code",
   "execution_count": null,
   "metadata": {},
   "outputs": [],
   "source": [
    "n_folds = 5\n",
    "\n",
    "P = np.random.permutation(n_molecules).reshape((n_folds, -1))\n",
    "\n",
    "cross_val_folds = []\n",
    "\n",
    "for i_fold in range(n_folds):\n",
    "    fold = (np.concatenate(P[np.arange(n_folds) != i_fold], axis=0),\n",
    "            P[i_fold])\n",
    "    cross_val_folds.append(fold)"
   ]
  },
  {
   "cell_type": "code",
   "execution_count": null,
   "metadata": {},
   "outputs": [],
   "source": [
    "alphas = 10.0 ** (-np.arange(1, 10))\n",
    "for i, alpha in enumerate(alphas):\n",
    "    scaler = preprocessing.StandardScaler()\n",
    "    ridge = linear_model.Ridge(alpha=alpha)\n",
    "\n",
    "    regressor = pipeline.make_pipeline(scaler, ridge)\n",
    "\n",
    "    target_prediction = model_selection.cross_val_predict(regressor,\n",
    "            X=scattering_coef, y=target, cv=cross_val_folds)\n",
    "\n",
    "    MAE = np.mean(np.abs(target_prediction - target))\n",
    "    RMSE = np.sqrt(np.mean((target_prediction - target) ** 2))\n",
    "\n",
    "    print('Ridge regression, alpha: {}, MAE: {}, RMSE: {}'.format(\n",
    "        alpha, MAE, RMSE))"
   ]
  },
  {
   "cell_type": "code",
   "execution_count": null,
   "metadata": {},
   "outputs": [],
   "source": []
  }
 ],
 "metadata": {
  "kernelspec": {
   "display_name": "bot",
   "language": "python",
   "name": "python3"
  },
  "language_info": {
   "codemirror_mode": {
    "name": "ipython",
    "version": 3
   },
   "file_extension": ".py",
   "mimetype": "text/x-python",
   "name": "python",
   "nbconvert_exporter": "python",
   "pygments_lexer": "ipython3",
   "version": "3.9.16"
  },
  "orig_nbformat": 4
 },
 "nbformat": 4,
 "nbformat_minor": 2
}
